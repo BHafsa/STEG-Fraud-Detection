{
 "cells": [
  {
   "cell_type": "markdown",
   "metadata": {
    "id": "dKhFmb-PgkMx"
   },
   "source": [
    "# Fraudulent Energy Client Detection\n",
    "\n",
    "The Tunisian Company of Electricity and Gas (STEG) is public and non-administrative. It is responsible for delivering electricity and gas across Tunisia. The company suffered tremendous losses in the order of **200 million** Tunisian Dinars due to fraudulent manipulations of meters by consumers.\n",
    "\n",
    "Using the client’s billing history, the challenge aims to detect and recognize clients involved in fraudulent activities.\n",
    "The findings will enhance the company’s revenues and reduce the losses caused by such fraudulent activities. For this purpose the CRISP-DM process will be used during the notebook to properly address this challenge.\n"
   ]
  },
  {
   "cell_type": "code",
   "metadata": {
    "id": "IFDpalv0hLow",
    "pycharm": {
     "name": "#%%\n"
    }
   },
   "source": [
    "#@title Import revelant modules and install Facets\n",
    "import numpy as np\n",
    "import pandas as pd\n",
    "import tensorflow as tf\n",
    "\n",
    "from matplotlib import pyplot as plt\n",
    "from matplotlib.pyplot import figure\n",
    "import seaborn as sns\n",
    "\n",
    "# The following lines adjust the granularity of reporting. \n",
    "pd.options.display.max_rows = 10\n",
    "pd.options.display.float_format = \"{:.1f}\".format"
   ],
   "execution_count": null,
   "outputs": []
  },
  {
   "cell_type": "markdown",
   "source": [
    "## Business  and Data Understanding\n",
    "Instead of reducing their consumption, some clients play with their meters to consume energy without fees. This manipulation is more popular in countries where the clients are billed on a quarterly/biannual basis which is the case of Tunisia. This first step aims to understand, clear, sort, and extract important features from the data provided.\n",
    "\n",
    "We want to answer the following questions:\n",
    "1. What is the rate of fraudulent clients in the dataset?\n",
    "2. How are the fraudulent clients distributed across regions/ districts?\n",
    "3. What period did the most Fraudulent clients join the company?\n",
    "4. What variables/combination of variables can be used to predict if a client is fraudulent or not?"
   ],
   "metadata": {
    "collapsed": false
   }
  },
  {
   "cell_type": "markdown",
   "metadata": {
    "colab": {
     "base_uri": "https://localhost:8080/"
    },
    "id": "AeZKzj5yhktx",
    "outputId": "a41d51c6-f0b0-48e5-8cdf-ce43683b1172",
    "pycharm": {
     "name": "#%% md\n"
    }
   },
   "source": [
    "\n",
    "\n",
    "The data provided by STEG is composed of two files. The first one is comprised of client data, and the second one contains billing history since 2005. \n",
    "\n",
    "* Client:\n",
    "\n",
    "\t- Client_id: Unique id for client\n",
    "\t- District: District where the client is\n",
    "\t- Client_catg: Category client belongs to\n",
    "\t- Region: Area where the client is\n",
    "\t- Creation_date: Date client joined\n",
    "\t- Target: fraud:1 , not fraud: 0\n",
    "\n",
    "* Invoice data\n",
    "\n",
    "\t- Client_id: Unique id for the client\n",
    "\t- Invoice_date: Date of the invoice\n",
    "\t- Tarif_type: Type of tax\n",
    "\t- Counter_number:\n",
    "\t- Counter_statue: takes up to 5 values such as working fine, not working, on hold statue, ect\n",
    "\t- Counter_code:\n",
    "\t- Reading_remarque: notes that the STEG agent takes during his visit to the client (e.g: If the counter shows \t\tsomething wrong, the agent gives a bad score)\n",
    "\t- Counter_coefficient: An additional coefficient to be added when standard consumption is exceeded\n",
    "\t- Consommation_level_1: Consumption_level_1\n",
    "\t- Consommation_level_2: Consumption_level_2\n",
    "\t- Consommation_level_3: Consumption_level_3\n",
    "\t- Consommation_level_4: Consumption_level_4\n",
    "\t- Old_index: Old index\n",
    "\t- New_index: New index\n",
    "\t- Months_number: Month number\n",
    "\t- Counter_type: Type of counter"
   ]
  },
  {
   "cell_type": "code",
   "execution_count": 3,
   "metadata": {
    "colab": {
     "base_uri": "https://localhost:8080/",
     "height": 206
    },
    "id": "GcfaL7St7nWE",
    "outputId": "c75bc54d-e431-44a7-b069-df4bcda9a5cb"
   },
   "outputs": [
    {
     "data": {
      "text/html": [
       "<div>\n",
       "<style scoped>\n",
       "    .dataframe tbody tr th:only-of-type {\n",
       "        vertical-align: middle;\n",
       "    }\n",
       "\n",
       "    .dataframe tbody tr th {\n",
       "        vertical-align: top;\n",
       "    }\n",
       "\n",
       "    .dataframe thead th {\n",
       "        text-align: right;\n",
       "    }\n",
       "</style>\n",
       "<table border=\"1\" class=\"dataframe\">\n",
       "  <thead>\n",
       "    <tr style=\"text-align: right;\">\n",
       "      <th></th>\n",
       "      <th>disrict</th>\n",
       "      <th>client_id</th>\n",
       "      <th>client_catg</th>\n",
       "      <th>region</th>\n",
       "      <th>creation_date</th>\n",
       "      <th>target</th>\n",
       "    </tr>\n",
       "  </thead>\n",
       "  <tbody>\n",
       "    <tr>\n",
       "      <th>0</th>\n",
       "      <td>60</td>\n",
       "      <td>train_Client_0</td>\n",
       "      <td>11</td>\n",
       "      <td>101</td>\n",
       "      <td>31/12/1994</td>\n",
       "      <td>0.0</td>\n",
       "    </tr>\n",
       "    <tr>\n",
       "      <th>1</th>\n",
       "      <td>69</td>\n",
       "      <td>train_Client_1</td>\n",
       "      <td>11</td>\n",
       "      <td>107</td>\n",
       "      <td>29/05/2002</td>\n",
       "      <td>0.0</td>\n",
       "    </tr>\n",
       "    <tr>\n",
       "      <th>2</th>\n",
       "      <td>62</td>\n",
       "      <td>train_Client_10</td>\n",
       "      <td>11</td>\n",
       "      <td>301</td>\n",
       "      <td>13/03/1986</td>\n",
       "      <td>0.0</td>\n",
       "    </tr>\n",
       "    <tr>\n",
       "      <th>3</th>\n",
       "      <td>69</td>\n",
       "      <td>train_Client_100</td>\n",
       "      <td>11</td>\n",
       "      <td>105</td>\n",
       "      <td>11/07/1996</td>\n",
       "      <td>0.0</td>\n",
       "    </tr>\n",
       "    <tr>\n",
       "      <th>4</th>\n",
       "      <td>62</td>\n",
       "      <td>train_Client_1000</td>\n",
       "      <td>11</td>\n",
       "      <td>303</td>\n",
       "      <td>14/10/2014</td>\n",
       "      <td>0.0</td>\n",
       "    </tr>\n",
       "  </tbody>\n",
       "</table>\n",
       "</div>"
      ],
      "text/plain": [
       "   disrict          client_id  client_catg  region creation_date  target\n",
       "0       60     train_Client_0           11     101    31/12/1994     0.0\n",
       "1       69     train_Client_1           11     107    29/05/2002     0.0\n",
       "2       62    train_Client_10           11     301    13/03/1986     0.0\n",
       "3       69   train_Client_100           11     105    11/07/1996     0.0\n",
       "4       62  train_Client_1000           11     303    14/10/2014     0.0"
      ]
     },
     "execution_count": 3,
     "metadata": {},
     "output_type": "execute_result"
    }
   ],
   "source": [
    "client_df = pd.read_csv(\"./data/train/client_train.csv\")\n",
    "invoice_df = pd.read_csv(\"./data/train/invoice_train.csv\")"
   ]
  },
  {
   "cell_type": "code",
   "execution_count": 4,
   "metadata": {
    "colab": {
     "base_uri": "https://localhost:8080/",
     "height": 898
    },
    "id": "7BHpeR3r7vG9",
    "outputId": "b62ee7c4-4de9-4216-8564-3fc3fbfe3940"
   },
   "outputs": [
    {
     "name": "stdout",
     "output_type": "stream",
     "text": [
      "<class 'pandas.core.frame.DataFrame'>\n",
      "RangeIndex: 135493 entries, 0 to 135492\n",
      "Data columns (total 6 columns):\n",
      "disrict          135493 non-null int64\n",
      "client_id        135493 non-null object\n",
      "client_catg      135493 non-null int64\n",
      "region           135493 non-null int64\n",
      "creation_date    135493 non-null object\n",
      "target           135493 non-null float64\n",
      "dtypes: float64(1), int64(3), object(2)\n",
      "memory usage: 6.2+ MB\n"
     ]
    }
   ],
   "source": [
    "client_df.head()"
   ]
  },
  {
   "cell_type": "code",
   "metadata": {
    "pycharm": {
     "name": "#%%\n"
    }
   },
   "source": [
    "client_df.info()"
   ],
   "execution_count": null,
   "outputs": []
  },
  {
   "cell_type": "markdown",
   "metadata": {
    "pycharm": {
     "name": "#%% md\n"
    }
   },
   "source": [
    "All the columns have 0 Nan values. All types are as expected, except for the creation_date column that needs to be transformed into the datetime."
   ]
  },
  {
   "cell_type": "code",
   "execution_count": 6,
   "metadata": {
    "id": "e0sNGT2C75I3"
   },
   "outputs": [],
   "source": [
    "client_df.describe()"
   ]
  },
  {
   "cell_type": "code",
   "metadata": {
    "id": "YdFKd5FW7USf",
    "pycharm": {
     "name": "#%%\n"
    }
   },
   "source": [
    "def plt_stats(df, col):\n",
    "    \"\"\"\n",
    "    plots the value_counts of a pd.DataFrame's column\n",
    "    :param df: pd.DataFrame of data\n",
    "    :param col: column of interest\n",
    "    \"\"\"\n",
    "    figure(figsize=(20,5))\n",
    "    plt.title(f'Number of clients per {col}')\n",
    "    df[col].value_counts(ascending=True).plot(kind='barh')\n",
    "    plt.ylabel(col)\n",
    "    plt.xlabel('Count')\n",
    "    plt.show()"
   ],
   "execution_count": null,
   "outputs": []
  },
  {
   "cell_type": "markdown",
   "metadata": {
    "colab": {
     "base_uri": "https://localhost:8080/"
    },
    "id": "uWmWDeOJ7gY7",
    "outputId": "6a0bcba4-d699-4f9b-ed17-aa60e09e6b94",
    "pycharm": {
     "name": "#%% md\n"
    }
   },
   "source": [
    "### 1. What is the rate of fraudulent clients in the dataset?"
   ]
  },
  {
   "cell_type": "code",
   "metadata": {
    "pycharm": {
     "name": "#%%\n"
    }
   },
   "source": [
    "plt_stats(client_df, col='target')\n",
    "print(f'The pourcentage of fraudulent clients is:{client_df[\"target\"].mean()}')"
   ],
   "execution_count": null,
   "outputs": []
  },
  {
   "cell_type": "markdown",
   "metadata": {},
   "source": [
    "The first observation is that the dataset is unbalanced and there could be possibility of bias where the pourcentage of Fraudulent clients is limited to a 5\\%."
   ]
  },
  {
   "cell_type": "markdown",
   "metadata": {
    "pycharm": {
     "name": "#%% md\n"
    }
   },
   "source": [
    "### 2. How are the fraudulent clients distributed cross regions/ districts?"
   ]
  },
  {
   "cell_type": "code",
   "metadata": {
    "pycharm": {
     "name": "#%%\n"
    }
   },
   "source": [
    "plt_stats(client_df, col='disrict')\n",
    "plt_stats(client_df, col='region')"
   ],
   "execution_count": null,
   "outputs": []
  },
  {
   "cell_type": "markdown",
   "metadata": {
    "pycharm": {
     "name": "#%% md\n"
    }
   },
   "source": [
    "The clients are distributed more or less homogeneously across districts, but this is not the case of the distribution across regions. The clients from this dataset are centred in some regions more than others. Nonetheless, it would be more interesting to look at the rate of fraudulent clients per region."
   ]
  },
  {
   "cell_type": "code",
   "metadata": {
    "pycharm": {
     "name": "#%%\n"
    }
   },
   "source": [
    "figure(figsize=(20,5))\n",
    "plt.title('The rate of fraudulent clients per region')\n",
    "client_df.groupby('region').mean()['target'].sort_values().plot(kind='barh')\n",
    "plt.ylabel('region')\n",
    "plt.xlabel('Count')\n",
    "plt.show()"
   ],
   "execution_count": null,
   "outputs": []
  },
  {
   "cell_type": "markdown",
   "metadata": {
    "pycharm": {
     "name": "#%% md\n"
    }
   },
   "source": [
    "The last plot indicates that the region is essential for predicting fraudulent activities. The clients of some regions are more likely to be fraudulent than others."
   ]
  },
  {
   "cell_type": "code",
   "metadata": {
    "pycharm": {
     "name": "#%%\n"
    }
   },
   "source": [
    "figure(figsize=(20,5))\n",
    "plt.hist(client_df.loc[client_df['target']==1,'region'], bins=500)\n",
    "plt.xlabel('region')\n",
    "plt.ylabel('Count')\n",
    "plt.title('The distribution of Faudulent clients per region')"
   ],
   "execution_count": null,
   "outputs": []
  },
  {
   "cell_type": "markdown",
   "metadata": {
    "pycharm": {
     "name": "#%% md\n"
    }
   },
   "source": [
    "### 3. What is the period where the most Fraudulent clients joined the company?"
   ]
  },
  {
   "cell_type": "code",
   "metadata": {
    "pycharm": {
     "name": "#%%\n"
    }
   },
   "source": [
    "client_df['creation_date'] = pd.to_datetime(client_df['creation_date'])\n",
    "figure(figsize=(20,5))\n",
    "client_df.groupby('creation_date').sum().resample('2M').sum()['target'].plot()\n",
    "plt.ylabel('Date joining the company')\n",
    "plt.ylabel('Number of clients')\n",
    "plt.title('Number of fraudulent clients joining the company')"
   ],
   "execution_count": null,
   "outputs": []
  },
  {
   "cell_type": "markdown",
   "metadata": {},
   "source": [
    "The plot shows that before 2006, the number of fraudulent clients joining the company was more or less steady. \n",
    "A peak in the number of fraudulent clients joining is evident around 2011 when the revolution of Tunisia occurred, taking advantage of the political crisis. However, starting from 2014, the number of fraudulent clients joining the company decreased."
   ]
  },
  {
   "cell_type": "markdown",
   "metadata": {
    "pycharm": {
     "name": "#%% md\n"
    }
   },
   "source": [
    "### 3. What are the best predictors for a fraudulent client?"
   ]
  },
  {
   "cell_type": "code",
   "metadata": {
    "pycharm": {
     "name": "#%%\n"
    }
   },
   "source": [
    "invoice_df.head()"
   ],
   "execution_count": null,
   "outputs": []
  },
  {
   "cell_type": "code",
   "metadata": {
    "pycharm": {
     "name": "#%%\n"
    }
   },
   "source": [
    "invoice_df.info()"
   ],
   "execution_count": null,
   "outputs": []
  },
  {
   "cell_type": "code",
   "metadata": {
    "pycharm": {
     "name": "#%%\n"
    }
   },
   "source": [
    "invoice_df.describe()"
   ],
   "execution_count": null,
   "outputs": []
  },
  {
   "cell_type": "code",
   "metadata": {
    "pycharm": {
     "name": "#%%\n"
    }
   },
   "source": [
    "df = pd.DataFrame(invoice_df.nunique())\n",
    "df[df.values.reshape(-1)<40]"
   ],
   "execution_count": null,
   "outputs": []
  },
  {
   "cell_type": "code",
   "metadata": {
    "pycharm": {
     "name": "#%%\n"
    }
   },
   "source": [
    "assert invoice_df.counter_number.nunique() >= invoice_df.client_id.nunique()"
   ],
   "execution_count": null,
   "outputs": []
  },
  {
   "cell_type": "code",
   "metadata": {
    "pycharm": {
     "name": "#%%\n"
    }
   },
   "source": [
    "invoice_df.tarif_type.unique()"
   ],
   "execution_count": null,
   "outputs": []
  },
  {
   "cell_type": "code",
   "metadata": {
    "pycharm": {
     "name": "#%%\n"
    }
   },
   "source": [
    "invoice_df.counter_statue.unique() # need to be cleaned, values should be 0-5 according to the meta-data file"
   ],
   "execution_count": null,
   "outputs": []
  },
  {
   "cell_type": "code",
   "metadata": {
    "pycharm": {
     "name": "#%%\n"
    }
   },
   "source": [
    "invoice_df.counter_coefficient.unique()"
   ],
   "execution_count": null,
   "outputs": []
  },
  {
   "cell_type": "code",
   "metadata": {
    "pycharm": {
     "name": "#%%\n"
    }
   },
   "source": [
    "invoice_df.counter_type.unique() # need to be mapped to abinary variable"
   ],
   "execution_count": null,
   "outputs": []
  },
  {
   "cell_type": "code",
   "metadata": {
    "pycharm": {
     "name": "#%%\n"
    }
   },
   "source": [
    "invoice_df.counter_statue.unique()"
   ],
   "execution_count": null,
   "outputs": []
  },
  {
   "cell_type": "markdown",
   "metadata": {
    "pycharm": {
     "name": "#%% md\n"
    }
   },
   "source": [
    "The above list is the list of categorical columns. The aggregation of these columns is thus a bit tricky. We will only consider the counter_type as a dummy variable. The other variables are considered ints since their values are highly unbalanced."
   ]
  },
  {
   "cell_type": "markdown",
   "source": [
    "## Data Preparation\n",
    "\n",
    "The data of both DataFrames require some cleaning. For the clients dataframe, the type of categorical columns should be correctly set. During data understanding, the values were concentrated around 3 values. We create a new feature region_group to spot that information. The creation date in datetime type and can not be used during classification. but as we saw the time of joining has some influence on the target variable. Therefore, we derive two variables from this column, the join_time representing the number of months since he joined the company and the join_period which specify if the client joined before 2006 or after it."
   ],
   "metadata": {
    "collapsed": false,
    "pycharm": {
     "name": "#%% md\n"
    }
   }
  },
  {
   "cell_type": "code",
   "metadata": {
    "pycharm": {
     "name": "#%%\n"
    }
   },
   "source": [
    "def clean_clients(clients):\n",
    "    \"\"\"\n",
    "    cleans the DataFrame of the clients\n",
    "    :param clients: pd.DataFrame of clients\n",
    "    :return: pd.DataFrame of clients\n",
    "    \"\"\"\n",
    "    # changing the type of categorical columns\n",
    "    clients['client_catg'] = clients['client_catg'].astype('category')\n",
    "    clients['disrict'] = clients['disrict'].astype('category')\n",
    "    clients['region'] = clients['region'].astype('category')\n",
    "    # Creating the group regions\n",
    "    clients['region_group'] = clients['region'].apply(lambda x: 100 if x<100 else 390 if x>390 else 300 if x>300 else 200)\n",
    "    clients['region_group'] = clients['region_group'].astype('category')\n",
    "    # Deriving information from the creation time (when the client joined)\n",
    "    clients['creation_date'] = pd.to_datetime(clients['creation_date'])\n",
    "    clients['join_time'] = (2019 - clients['creation_date'].dt.year)*12 - clients['creation_date'].dt.month\n",
    "    clients['join_period'] = (2006 - clients['creation_date'].dt.year)\n",
    "    clients = clients.drop(['creation_date'], axis=1)\n",
    "    \n",
    "    return clients"
   ],
   "execution_count": null,
   "outputs": []
  },
  {
   "cell_type": "code",
   "metadata": {
    "pycharm": {
     "name": "#%%\n"
    }
   },
   "source": [
    "cleaned_client_df = clean_clients(client_df)"
   ],
   "execution_count": null,
   "outputs": []
  },
  {
   "cell_type": "code",
   "metadata": {
    "pycharm": {
     "name": "#%%\n"
    }
   },
   "source": [
    "cleaned_client_df.dtypes"
   ],
   "execution_count": null,
   "outputs": []
  },
  {
   "cell_type": "markdown",
   "source": [
    "The data frame of the invoices also requires cleaning and"
   ],
   "metadata": {
    "collapsed": false,
    "pycharm": {
     "name": "#%% md\n"
    }
   }
  },
  {
   "cell_type": "code",
   "source": [
    "def clean_invoices(invoices):\n",
    "    \"\"\"\n",
    "    cleans the DataFrame of the clients\n",
    "    :param invoices: a pd.DataFrame of invocies of the clients\n",
    "    :return: pd.DataFrame\n",
    "    \"\"\"\n",
    "    # Cleaning the statue values [0-5]\n",
    "    invoices['counter_statue'] = invoices['counter_statue'].map({\n",
    "        0:0,1:1,2:2,3:3,4:4,5:5,769:5,'0':0,'5':5,'1':1,'4':4,'A':0,618:5,269375:5,46:5,420:5\n",
    "    })\n",
    "    # Deriving information form the invoice dates\n",
    "    invoices['invoice_date'] = pd.to_datetime(invoices['invoice_date'], dayfirst=True)\n",
    "    invoices['invoice_month'] = invoices['invoice_date'].dt.month\n",
    "    invoices['invoice_year'] = invoices['invoice_date'].dt.year\n",
    "    invoices['is_weekday'] = ((pd.DatetimeIndex(invoices.invoice_date).dayofweek) // 5 == 1).astype(float)\n",
    "    invoices = invoices.drop(['invoice_date'], axis=1)\n",
    "    # Getting the power consumption of the meter\n",
    "    invoices['delta_index'] = invoices['new_index'] - invoices['old_index']\n",
    "    # Getting the sum of the 4 consumption levels\n",
    "    invoices['total_consumption'] = invoices[['consommation_level_1',\n",
    "                                             'consommation_level_2',\n",
    "                                             'consommation_level_3',\n",
    "                                             'consommation_level_4']].sum(axis=1)\n",
    "    # Checking if numbers of the meter and the invoice are identical\n",
    "    invoices['is_energy_equal'] = (invoices['total_consumption'] == invoices['delta_index'])\n",
    "    # Turn the counter type into dummy columns\n",
    "    invoices = pd.get_dummies(invoices, columns=[ 'counter_type'])\n",
    "    \n",
    "    return invoices"
   ],
   "metadata": {
    "collapsed": false,
    "pycharm": {
     "name": "#%%\n"
    }
   },
   "execution_count": null,
   "outputs": []
  },
  {
   "cell_type": "code",
   "execution_count": 68,
   "metadata": {},
   "outputs": [],
   "source": [
    "cleaned_invoices = clean_invoices(invoice_df)"
   ]
  },
  {
   "cell_type": "code",
   "execution_count": 16,
   "metadata": {},
   "outputs": [
    {
     "data": {
      "text/html": [
       "<div>\n",
       "<style scoped>\n",
       "    .dataframe tbody tr th:only-of-type {\n",
       "        vertical-align: middle;\n",
       "    }\n",
       "\n",
       "    .dataframe tbody tr th {\n",
       "        vertical-align: top;\n",
       "    }\n",
       "\n",
       "    .dataframe thead th {\n",
       "        text-align: right;\n",
       "    }\n",
       "</style>\n",
       "<table border=\"1\" class=\"dataframe\">\n",
       "  <thead>\n",
       "    <tr style=\"text-align: right;\">\n",
       "      <th></th>\n",
       "      <th>tarif_type</th>\n",
       "      <th>counter_number</th>\n",
       "      <th>counter_statue</th>\n",
       "      <th>counter_code</th>\n",
       "      <th>reading_remarque</th>\n",
       "      <th>counter_coefficient</th>\n",
       "      <th>consommation_level_1</th>\n",
       "      <th>consommation_level_2</th>\n",
       "      <th>consommation_level_3</th>\n",
       "      <th>consommation_level_4</th>\n",
       "      <th>old_index</th>\n",
       "      <th>new_index</th>\n",
       "      <th>months_number</th>\n",
       "      <th>invoice_month</th>\n",
       "      <th>invoice_year</th>\n",
       "      <th>is_weekday</th>\n",
       "      <th>delta_index</th>\n",
       "      <th>total_consumption</th>\n",
       "      <th>counter_type_ELEC</th>\n",
       "      <th>counter_type_GAZ</th>\n",
       "    </tr>\n",
       "  </thead>\n",
       "  <tbody>\n",
       "    <tr>\n",
       "      <th>count</th>\n",
       "      <td>4476749.0</td>\n",
       "      <td>4476749.0</td>\n",
       "      <td>4476749.0</td>\n",
       "      <td>4476749.0</td>\n",
       "      <td>4476749.0</td>\n",
       "      <td>4476749.0</td>\n",
       "      <td>4476749.0</td>\n",
       "      <td>4476749.0</td>\n",
       "      <td>4476749.0</td>\n",
       "      <td>4476749.0</td>\n",
       "      <td>4476749.0</td>\n",
       "      <td>4476749.0</td>\n",
       "      <td>4476749.0</td>\n",
       "      <td>4476749.0</td>\n",
       "      <td>4476749.0</td>\n",
       "      <td>4476749.0</td>\n",
       "      <td>4476749.0</td>\n",
       "      <td>4476749.0</td>\n",
       "      <td>4476749.0</td>\n",
       "      <td>4476749.0</td>\n",
       "    </tr>\n",
       "    <tr>\n",
       "      <th>mean</th>\n",
       "      <td>20.1</td>\n",
       "      <td>123058699065.2</td>\n",
       "      <td>0.0</td>\n",
       "      <td>172.5</td>\n",
       "      <td>7.3</td>\n",
       "      <td>1.0</td>\n",
       "      <td>411.0</td>\n",
       "      <td>109.3</td>\n",
       "      <td>20.3</td>\n",
       "      <td>52.9</td>\n",
       "      <td>17767.0</td>\n",
       "      <td>18349.7</td>\n",
       "      <td>44.8</td>\n",
       "      <td>6.3</td>\n",
       "      <td>2012.7</td>\n",
       "      <td>0.1</td>\n",
       "      <td>582.7</td>\n",
       "      <td>593.5</td>\n",
       "      <td>0.7</td>\n",
       "      <td>0.3</td>\n",
       "    </tr>\n",
       "    <tr>\n",
       "      <th>std</th>\n",
       "      <td>13.5</td>\n",
       "      <td>1657267274261.9</td>\n",
       "      <td>0.4</td>\n",
       "      <td>133.9</td>\n",
       "      <td>1.6</td>\n",
       "      <td>0.3</td>\n",
       "      <td>757.3</td>\n",
       "      <td>1220.1</td>\n",
       "      <td>157.4</td>\n",
       "      <td>875.5</td>\n",
       "      <td>40366.9</td>\n",
       "      <td>40953.2</td>\n",
       "      <td>3128.3</td>\n",
       "      <td>3.4</td>\n",
       "      <td>4.1</td>\n",
       "      <td>0.3</td>\n",
       "      <td>4609.4</td>\n",
       "      <td>1775.2</td>\n",
       "      <td>0.5</td>\n",
       "      <td>0.5</td>\n",
       "    </tr>\n",
       "    <tr>\n",
       "      <th>min</th>\n",
       "      <td>8.0</td>\n",
       "      <td>0.0</td>\n",
       "      <td>0.0</td>\n",
       "      <td>0.0</td>\n",
       "      <td>5.0</td>\n",
       "      <td>0.0</td>\n",
       "      <td>0.0</td>\n",
       "      <td>0.0</td>\n",
       "      <td>0.0</td>\n",
       "      <td>0.0</td>\n",
       "      <td>0.0</td>\n",
       "      <td>0.0</td>\n",
       "      <td>0.0</td>\n",
       "      <td>1.0</td>\n",
       "      <td>1977.0</td>\n",
       "      <td>0.0</td>\n",
       "      <td>-999096.0</td>\n",
       "      <td>0.0</td>\n",
       "      <td>0.0</td>\n",
       "      <td>0.0</td>\n",
       "    </tr>\n",
       "    <tr>\n",
       "      <th>25%</th>\n",
       "      <td>11.0</td>\n",
       "      <td>121108.0</td>\n",
       "      <td>0.0</td>\n",
       "      <td>5.0</td>\n",
       "      <td>6.0</td>\n",
       "      <td>1.0</td>\n",
       "      <td>79.0</td>\n",
       "      <td>0.0</td>\n",
       "      <td>0.0</td>\n",
       "      <td>0.0</td>\n",
       "      <td>1791.0</td>\n",
       "      <td>2056.0</td>\n",
       "      <td>4.0</td>\n",
       "      <td>3.0</td>\n",
       "      <td>2010.0</td>\n",
       "      <td>0.0</td>\n",
       "      <td>79.0</td>\n",
       "      <td>80.0</td>\n",
       "      <td>0.0</td>\n",
       "      <td>0.0</td>\n",
       "    </tr>\n",
       "    <tr>\n",
       "      <th>50%</th>\n",
       "      <td>11.0</td>\n",
       "      <td>494561.0</td>\n",
       "      <td>0.0</td>\n",
       "      <td>203.0</td>\n",
       "      <td>8.0</td>\n",
       "      <td>1.0</td>\n",
       "      <td>274.0</td>\n",
       "      <td>0.0</td>\n",
       "      <td>0.0</td>\n",
       "      <td>0.0</td>\n",
       "      <td>7690.0</td>\n",
       "      <td>8192.0</td>\n",
       "      <td>4.0</td>\n",
       "      <td>6.0</td>\n",
       "      <td>2013.0</td>\n",
       "      <td>0.0</td>\n",
       "      <td>309.0</td>\n",
       "      <td>309.0</td>\n",
       "      <td>1.0</td>\n",
       "      <td>0.0</td>\n",
       "    </tr>\n",
       "    <tr>\n",
       "      <th>75%</th>\n",
       "      <td>40.0</td>\n",
       "      <td>1115161.0</td>\n",
       "      <td>0.0</td>\n",
       "      <td>207.0</td>\n",
       "      <td>9.0</td>\n",
       "      <td>1.0</td>\n",
       "      <td>600.0</td>\n",
       "      <td>0.0</td>\n",
       "      <td>0.0</td>\n",
       "      <td>0.0</td>\n",
       "      <td>21660.0</td>\n",
       "      <td>22343.0</td>\n",
       "      <td>4.0</td>\n",
       "      <td>9.0</td>\n",
       "      <td>2016.0</td>\n",
       "      <td>0.0</td>\n",
       "      <td>656.0</td>\n",
       "      <td>657.0</td>\n",
       "      <td>1.0</td>\n",
       "      <td>1.0</td>\n",
       "    </tr>\n",
       "    <tr>\n",
       "      <th>max</th>\n",
       "      <td>45.0</td>\n",
       "      <td>27981145458733.0</td>\n",
       "      <td>5.0</td>\n",
       "      <td>600.0</td>\n",
       "      <td>413.0</td>\n",
       "      <td>50.0</td>\n",
       "      <td>999910.0</td>\n",
       "      <td>999073.0</td>\n",
       "      <td>64492.0</td>\n",
       "      <td>547946.0</td>\n",
       "      <td>2800280.0</td>\n",
       "      <td>2870972.0</td>\n",
       "      <td>636624.0</td>\n",
       "      <td>12.0</td>\n",
       "      <td>2019.0</td>\n",
       "      <td>1.0</td>\n",
       "      <td>633228.0</td>\n",
       "      <td>999910.0</td>\n",
       "      <td>1.0</td>\n",
       "      <td>1.0</td>\n",
       "    </tr>\n",
       "  </tbody>\n",
       "</table>\n",
       "</div>"
      ],
      "text/plain": [
       "       tarif_type   counter_number  counter_statue  counter_code  \\\n",
       "count   4476749.0        4476749.0       4476749.0     4476749.0   \n",
       "mean         20.1   123058699065.2             0.0         172.5   \n",
       "std          13.5  1657267274261.9             0.4         133.9   \n",
       "min           8.0              0.0             0.0           0.0   \n",
       "25%          11.0         121108.0             0.0           5.0   \n",
       "50%          11.0         494561.0             0.0         203.0   \n",
       "75%          40.0        1115161.0             0.0         207.0   \n",
       "max          45.0 27981145458733.0             5.0         600.0   \n",
       "\n",
       "       reading_remarque  counter_coefficient  consommation_level_1  \\\n",
       "count         4476749.0            4476749.0             4476749.0   \n",
       "mean                7.3                  1.0                 411.0   \n",
       "std                 1.6                  0.3                 757.3   \n",
       "min                 5.0                  0.0                   0.0   \n",
       "25%                 6.0                  1.0                  79.0   \n",
       "50%                 8.0                  1.0                 274.0   \n",
       "75%                 9.0                  1.0                 600.0   \n",
       "max               413.0                 50.0              999910.0   \n",
       "\n",
       "       consommation_level_2  consommation_level_3  consommation_level_4  \\\n",
       "count             4476749.0             4476749.0             4476749.0   \n",
       "mean                  109.3                  20.3                  52.9   \n",
       "std                  1220.1                 157.4                 875.5   \n",
       "min                     0.0                   0.0                   0.0   \n",
       "25%                     0.0                   0.0                   0.0   \n",
       "50%                     0.0                   0.0                   0.0   \n",
       "75%                     0.0                   0.0                   0.0   \n",
       "max                999073.0               64492.0              547946.0   \n",
       "\n",
       "       old_index  new_index  months_number  invoice_month  invoice_year  \\\n",
       "count  4476749.0  4476749.0      4476749.0      4476749.0     4476749.0   \n",
       "mean     17767.0    18349.7           44.8            6.3        2012.7   \n",
       "std      40366.9    40953.2         3128.3            3.4           4.1   \n",
       "min          0.0        0.0            0.0            1.0        1977.0   \n",
       "25%       1791.0     2056.0            4.0            3.0        2010.0   \n",
       "50%       7690.0     8192.0            4.0            6.0        2013.0   \n",
       "75%      21660.0    22343.0            4.0            9.0        2016.0   \n",
       "max    2800280.0  2870972.0       636624.0           12.0        2019.0   \n",
       "\n",
       "       is_weekday  delta_index  total_consumption  counter_type_ELEC  \\\n",
       "count   4476749.0    4476749.0          4476749.0          4476749.0   \n",
       "mean          0.1        582.7              593.5                0.7   \n",
       "std           0.3       4609.4             1775.2                0.5   \n",
       "min           0.0    -999096.0                0.0                0.0   \n",
       "25%           0.0         79.0               80.0                0.0   \n",
       "50%           0.0        309.0              309.0                1.0   \n",
       "75%           0.0        656.0              657.0                1.0   \n",
       "max           1.0     633228.0           999910.0                1.0   \n",
       "\n",
       "       counter_type_GAZ  \n",
       "count         4476749.0  \n",
       "mean                0.3  \n",
       "std                 0.5  \n",
       "min                 0.0  \n",
       "25%                 0.0  \n",
       "50%                 0.0  \n",
       "75%                 1.0  \n",
       "max                 1.0  "
      ]
     },
     "execution_count": 16,
     "metadata": {},
     "output_type": "execute_result"
    }
   ],
   "source": [
    "cleaned_invoices.describe()"
   ]
  },
  {
   "cell_type": "code",
   "execution_count": 10,
   "metadata": {},
   "outputs": [],
   "source": [
    "assert 'client_id' in cleaned_invoices.columns"
   ]
  },
  {
   "cell_type": "markdown",
   "source": [
    "The aggregation of the invoices will be done using the standard measures of spread to have more information about the each column before merging them with the client list."
   ],
   "metadata": {
    "collapsed": false,
    "pycharm": {
     "name": "#%% md\n"
    }
   }
  },
  {
   "cell_type": "code",
   "execution_count": 69,
   "metadata": {},
   "outputs": [],
   "source": [
    "rename_cols = lambda cols,prefix: [f'{col}_{prefix}' for col in cols]\n",
    "\n",
    "def join_data(clients, invoice):\n",
    "    \"\"\"\n",
    "    aggregate the invoices of each client and link them to the client\n",
    "    the aggregation is done using the sum for dummy columns and the\n",
    "    standard measures of spread for the other columns\n",
    "    :param clients: pd.DataFrame of clients\n",
    "    :param invoice: pd.dataFrame of invoices\n",
    "    :return: a pd.DataFrame of clients and their invoices\n",
    "    \"\"\"\n",
    "    # list of columns that we want to aggregate with a sum\n",
    "    # cols_grp_sum = ['is_weekday', 'is_energy_equal', 'counter_type_ELEC','counter_type_GAZ','client_id' ]\n",
    "    # invoice_agg = invoice[cols_grp_sum].groupby('client_id').sum()\n",
    "    # # droping the already aggregated columns\n",
    "    # invoice = invoice.drop(list(set(cols_grp_sum)- set(['client_id']) ), axis=1)\n",
    "\n",
    "    invoice_max = invoice.groupby('client_id').max()\n",
    "    invoice_max.columns = rename_cols(invoice_max.columns, 'max')\n",
    "    \n",
    "    invoice_min = invoice.groupby('client_id').min() \n",
    "    invoice_min.columns = rename_cols(invoice_min.columns, 'min')\n",
    "    \n",
    "    invoice_median = invoice.groupby('client_id').median()\n",
    "    invoice_median.columns = rename_cols(invoice_median.columns, 'median')\n",
    "    \n",
    "    invoice_q25 =  invoice.groupby('client_id').quantile(.25)\n",
    "    invoice_q25.columns = rename_cols(invoice_q25.columns, 'q25')\n",
    "    \n",
    "    invoice_q75 =  invoice.groupby('client_id').quantile(.75)\n",
    "    invoice_q75.columns = rename_cols(invoice_q75.columns, 'q75')\n",
    "\n",
    "    invoice_std = invoice.groupby('client_id').std()\n",
    "    invoice_std.columns = rename_cols(invoice_std.columns, 'std')\n",
    "    \n",
    "    invoice_mean = invoice.groupby('client_id').mean()\n",
    "    invoice_mean.columns = rename_cols(invoice_mean.columns, 'mean')\n",
    "\n",
    "    invoice_summary = pd.concat([invoice_max, invoice_min,\n",
    "                                 invoice_median, \n",
    "                                 invoice_q25, invoice_q75,\n",
    "                                invoice_std, invoice_mean], axis=1).reset_index()\n",
    " \n",
    "\n",
    "    return clients.merge(invoice_summary, on='client_id')\n"
   ]
  },
  {
   "cell_type": "code",
   "execution_count": 70,
   "metadata": {
    "id": "3qBihsPFgX1u"
   },
   "outputs": [],
   "source": [
    "train_data = join_data(cleaned_client_df, cleaned_invoices)"
   ]
  },
  {
   "cell_type": "code",
   "execution_count": 71,
   "metadata": {},
   "outputs": [
    {
     "data": {
      "text/html": [
       "<div>\n",
       "<style scoped>\n",
       "    .dataframe tbody tr th:only-of-type {\n",
       "        vertical-align: middle;\n",
       "    }\n",
       "\n",
       "    .dataframe tbody tr th {\n",
       "        vertical-align: top;\n",
       "    }\n",
       "\n",
       "    .dataframe thead th {\n",
       "        text-align: right;\n",
       "    }\n",
       "</style>\n",
       "<table border=\"1\" class=\"dataframe\">\n",
       "  <thead>\n",
       "    <tr style=\"text-align: right;\">\n",
       "      <th></th>\n",
       "      <th>count</th>\n",
       "      <th>mean</th>\n",
       "      <th>std</th>\n",
       "      <th>min</th>\n",
       "      <th>25%</th>\n",
       "      <th>50%</th>\n",
       "      <th>75%</th>\n",
       "      <th>max</th>\n",
       "    </tr>\n",
       "  </thead>\n",
       "  <tbody>\n",
       "    <tr>\n",
       "      <th>target</th>\n",
       "      <td>135493.0</td>\n",
       "      <td>0.1</td>\n",
       "      <td>0.2</td>\n",
       "      <td>0.0</td>\n",
       "      <td>0.0</td>\n",
       "      <td>0.0</td>\n",
       "      <td>0.0</td>\n",
       "      <td>1.0</td>\n",
       "    </tr>\n",
       "    <tr>\n",
       "      <th>join_time</th>\n",
       "      <td>135493.0</td>\n",
       "      <td>38.5</td>\n",
       "      <td>138.5</td>\n",
       "      <td>-168.0</td>\n",
       "      <td>-76.0</td>\n",
       "      <td>3.0</td>\n",
       "      <td>143.0</td>\n",
       "      <td>347.0</td>\n",
       "    </tr>\n",
       "    <tr>\n",
       "      <th>tarif_type_max</th>\n",
       "      <td>135493.0</td>\n",
       "      <td>24.3</td>\n",
       "      <td>14.5</td>\n",
       "      <td>10.0</td>\n",
       "      <td>11.0</td>\n",
       "      <td>11.0</td>\n",
       "      <td>40.0</td>\n",
       "      <td>45.0</td>\n",
       "    </tr>\n",
       "    <tr>\n",
       "      <th>counter_number_max</th>\n",
       "      <td>135493.0</td>\n",
       "      <td>1053178796983.8</td>\n",
       "      <td>4838268103410.5</td>\n",
       "      <td>0.0</td>\n",
       "      <td>344197.0</td>\n",
       "      <td>846413.0</td>\n",
       "      <td>4903468.0</td>\n",
       "      <td>27981145458733.0</td>\n",
       "    </tr>\n",
       "    <tr>\n",
       "      <th>counter_statue_max</th>\n",
       "      <td>135493.0</td>\n",
       "      <td>0.8</td>\n",
       "      <td>1.6</td>\n",
       "      <td>0.0</td>\n",
       "      <td>0.0</td>\n",
       "      <td>0.0</td>\n",
       "      <td>1.0</td>\n",
       "      <td>5.0</td>\n",
       "    </tr>\n",
       "    <tr>\n",
       "      <th>...</th>\n",
       "      <td>...</td>\n",
       "      <td>...</td>\n",
       "      <td>...</td>\n",
       "      <td>...</td>\n",
       "      <td>...</td>\n",
       "      <td>...</td>\n",
       "      <td>...</td>\n",
       "      <td>...</td>\n",
       "    </tr>\n",
       "    <tr>\n",
       "      <th>months_number_mean</th>\n",
       "      <td>135493.0</td>\n",
       "      <td>33.0</td>\n",
       "      <td>2745.1</td>\n",
       "      <td>1.0</td>\n",
       "      <td>4.0</td>\n",
       "      <td>4.2</td>\n",
       "      <td>4.7</td>\n",
       "      <td>602244.8</td>\n",
       "    </tr>\n",
       "    <tr>\n",
       "      <th>invoice_month_mean</th>\n",
       "      <td>135493.0</td>\n",
       "      <td>6.3</td>\n",
       "      <td>1.6</td>\n",
       "      <td>1.0</td>\n",
       "      <td>5.2</td>\n",
       "      <td>6.2</td>\n",
       "      <td>7.4</td>\n",
       "      <td>12.0</td>\n",
       "    </tr>\n",
       "    <tr>\n",
       "      <th>invoice_year_mean</th>\n",
       "      <td>135493.0</td>\n",
       "      <td>2012.4</td>\n",
       "      <td>4.9</td>\n",
       "      <td>1977.0</td>\n",
       "      <td>2011.6</td>\n",
       "      <td>2012.7</td>\n",
       "      <td>2015.3</td>\n",
       "      <td>2019.0</td>\n",
       "    </tr>\n",
       "    <tr>\n",
       "      <th>delta_index_mean</th>\n",
       "      <td>135493.0</td>\n",
       "      <td>625.3</td>\n",
       "      <td>3359.8</td>\n",
       "      <td>-498591.5</td>\n",
       "      <td>227.7</td>\n",
       "      <td>389.0</td>\n",
       "      <td>635.5</td>\n",
       "      <td>596828.7</td>\n",
       "    </tr>\n",
       "    <tr>\n",
       "      <th>total_consumption_mean</th>\n",
       "      <td>135493.0</td>\n",
       "      <td>648.4</td>\n",
       "      <td>1481.5</td>\n",
       "      <td>0.0</td>\n",
       "      <td>235.0</td>\n",
       "      <td>396.4</td>\n",
       "      <td>651.3</td>\n",
       "      <td>117483.0</td>\n",
       "    </tr>\n",
       "  </tbody>\n",
       "</table>\n",
       "<p>121 rows × 8 columns</p>\n",
       "</div>"
      ],
      "text/plain": [
       "                          count            mean             std       min  \\\n",
       "target                 135493.0             0.1             0.2       0.0   \n",
       "join_time              135493.0            38.5           138.5    -168.0   \n",
       "tarif_type_max         135493.0            24.3            14.5      10.0   \n",
       "counter_number_max     135493.0 1053178796983.8 4838268103410.5       0.0   \n",
       "counter_statue_max     135493.0             0.8             1.6       0.0   \n",
       "...                         ...             ...             ...       ...   \n",
       "months_number_mean     135493.0            33.0          2745.1       1.0   \n",
       "invoice_month_mean     135493.0             6.3             1.6       1.0   \n",
       "invoice_year_mean      135493.0          2012.4             4.9    1977.0   \n",
       "delta_index_mean       135493.0           625.3          3359.8 -498591.5   \n",
       "total_consumption_mean 135493.0           648.4          1481.5       0.0   \n",
       "\n",
       "                            25%      50%       75%              max  \n",
       "target                      0.0      0.0       0.0              1.0  \n",
       "join_time                 -76.0      3.0     143.0            347.0  \n",
       "tarif_type_max             11.0     11.0      40.0             45.0  \n",
       "counter_number_max     344197.0 846413.0 4903468.0 27981145458733.0  \n",
       "counter_statue_max          0.0      0.0       1.0              5.0  \n",
       "...                         ...      ...       ...              ...  \n",
       "months_number_mean          4.0      4.2       4.7         602244.8  \n",
       "invoice_month_mean          5.2      6.2       7.4             12.0  \n",
       "invoice_year_mean        2011.6   2012.7    2015.3           2019.0  \n",
       "delta_index_mean          227.7    389.0     635.5         596828.7  \n",
       "total_consumption_mean    235.0    396.4     651.3         117483.0  \n",
       "\n",
       "[121 rows x 8 columns]"
      ]
     },
     "execution_count": 71,
     "metadata": {},
     "output_type": "execute_result"
    }
   ],
   "source": [
    "def add_extra_features(df):\n",
    "    \"\"\"\n",
    "    Adds the range and the inter-quartile measures to the features\n",
    "    :param df:\n",
    "    :return:\n",
    "    \"\"\"\n",
    "    cols = df.columns[df.dtypes==int]\n",
    "    for col in cols:\n",
    "        original_col = col.split('_')\n",
    "        if len(original_col) == 2 and col!='join_time':\n",
    "            print(original_col)\n",
    "            original_col = original_col[0]\n",
    "            df[f'{original_col}_range'] =  df[f'{original_col}_max'] - df[f'{original_col}_min']\n",
    "            df[f'{original_col}_iqr'] =  df[f'{original_col}_q75'] - df[f'{original_col}_q25']\n",
    "    return df\n",
    "\n",
    "train_data = add_extra_features(train_data)\n",
    "train_data.describe().T"
   ]
  },
  {
   "cell_type": "code",
   "execution_count": 72,
   "metadata": {},
   "outputs": [
    {
     "data": {
      "text/plain": [
       "Index(['counter_statue_min', 'consommation_level_3_min',\n",
       "       'consommation_level_4_min', 'counter_statue_median',\n",
       "       'consommation_level_4_median', 'counter_statue_q25',\n",
       "       'consommation_level_3_q25', 'consommation_level_4_q25'],\n",
       "      dtype='object')"
      ]
     },
     "execution_count": 72,
     "metadata": {},
     "output_type": "execute_result"
    }
   ],
   "source": [
    "# Dropping the columns that are null most of the time\n",
    "useless_col = train_data.columns[(train_data == 0).astype(int).sum(axis=0) / train_data.shape[0] >.98]\n",
    "useless_col"
   ]
  },
  {
   "cell_type": "code",
   "execution_count": 73,
   "metadata": {},
   "outputs": [],
   "source": [
    "train_data = train_data.drop(useless_col, axis=1)"
   ]
  },
  {
   "cell_type": "markdown",
   "metadata": {
    "id": "aNtPPEmehQOY"
   },
   "source": [
    "## Data Modelling\n",
    "\n",
    "To model the data and classify the clients, the decision trees are used from xgboost package. Cross validation is used to train the model on the 5 folds. The parameters of teh model were chosen manually."
   ]
  },
  {
   "cell_type": "code",
   "execution_count": 75,
   "metadata": {},
   "outputs": [],
   "source": [
    "from sklearn.model_selection import train_test_split\n",
    "from sklearn.metrics import f1_score, recall_score, precision_score, roc_auc_score\n",
    "import lightgbm\n",
    "from optuna import Trial\n",
    "import optuna\n",
    "import gc\n",
    "\n",
    "from sklearn.model_selection import StratifiedKFold\n",
    "from lightgbm import LGBMClassifier"
   ]
  },
  {
   "cell_type": "code",
   "execution_count": 76,
   "metadata": {
    "id": "rPwMQdof7Ts4"
   },
   "outputs": [],
   "source": [
    "X, y = train_data.drop(['client_id','target'], axis=1), train_data['target']\n",
    "assert 'target' not in X.columns"
   ]
  },
  {
   "cell_type": "code",
   "execution_count": 25,
   "metadata": {},
   "outputs": [],
   "source": [
    "X.describe().T.to_csv('./data/X_train.csv')"
   ]
  },
  {
   "cell_type": "code",
   "execution_count": 77,
   "metadata": {},
   "outputs": [],
   "source": [
    "client_df = pd.read_csv(\"./data/test/client_test.csv\")\n",
    "invoice_df = pd.read_csv(\"./data/test/invoice_test.csv\")\n",
    "\n",
    "cleaned_invoices = clean_invoices(invoice_df)\n",
    "cleaned_clients= clean_clients(client_df)\n",
    "\n",
    "test_data = join_data(cleaned_clients, cleaned_invoices).drop(['counter_statue_min', 'consommation_level_3_min',\n",
    "       'consommation_level_4_min', 'counter_statue_median',\n",
    "       'consommation_level_4_median', 'counter_statue_q25',\n",
    "       'consommation_level_3_q25', 'consommation_level_4_q25'], axis=1)\n"
   ]
  },
  {
   "cell_type": "code",
   "execution_count": 78,
   "metadata": {},
   "outputs": [],
   "source": [
    "X_test = test_data.drop(['client_id'],axis=1)"
   ]
  },
  {
   "cell_type": "code",
   "execution_count": 87,
   "metadata": {},
   "outputs": [
    {
     "name": "stderr",
     "output_type": "stream",
     "text": [
      "/home/hafsa/anaconda3/envs/nilmtk-env/lib/python3.8/site-packages/lightgbm/sklearn.py:726: UserWarning: 'early_stopping_rounds' argument is deprecated and will be removed in a future release of LightGBM. Pass 'early_stopping()' callback via 'callbacks' argument instead.\n",
      "  _log_warning(\"'early_stopping_rounds' argument is deprecated and will be removed in a future release of LightGBM. \"\n",
      "/home/hafsa/anaconda3/envs/nilmtk-env/lib/python3.8/site-packages/lightgbm/sklearn.py:736: UserWarning: 'verbose' argument is deprecated and will be removed in a future release of LightGBM. Pass 'log_evaluation()' callback via 'callbacks' argument instead.\n",
      "  _log_warning(\"'verbose' argument is deprecated and will be removed in a future release of LightGBM. \"\n"
     ]
    },
    {
     "name": "stdout",
     "output_type": "stream",
     "text": [
      "[LightGBM] [Warning] bagging_freq is set=8, subsample_freq=0 will be ignored. Current value: bagging_freq=8\n",
      "[LightGBM] [Warning] feature_fraction is set=0.8, colsample_bytree=1.0 will be ignored. Current value: feature_fraction=0.8\n"
     ]
    },
    {
     "name": "stderr",
     "output_type": "stream",
     "text": [
      "/home/hafsa/anaconda3/envs/nilmtk-env/lib/python3.8/site-packages/lightgbm/basic.py:1780: UserWarning: Overriding the parameters from Reference Dataset.\n",
      "  _log_warning('Overriding the parameters from Reference Dataset.')\n",
      "/home/hafsa/anaconda3/envs/nilmtk-env/lib/python3.8/site-packages/lightgbm/basic.py:1513: UserWarning: categorical_column in param dict is overridden.\n",
      "  _log_warning(f'{cat_alias} in param dict is overridden.')\n",
      "/home/hafsa/anaconda3/envs/nilmtk-env/lib/python3.8/site-packages/lightgbm/sklearn.py:726: UserWarning: 'early_stopping_rounds' argument is deprecated and will be removed in a future release of LightGBM. Pass 'early_stopping()' callback via 'callbacks' argument instead.\n",
      "  _log_warning(\"'early_stopping_rounds' argument is deprecated and will be removed in a future release of LightGBM. \"\n",
      "/home/hafsa/anaconda3/envs/nilmtk-env/lib/python3.8/site-packages/lightgbm/sklearn.py:736: UserWarning: 'verbose' argument is deprecated and will be removed in a future release of LightGBM. Pass 'log_evaluation()' callback via 'callbacks' argument instead.\n",
      "  _log_warning(\"'verbose' argument is deprecated and will be removed in a future release of LightGBM. \"\n"
     ]
    },
    {
     "name": "stdout",
     "output_type": "stream",
     "text": [
      "[LightGBM] [Warning] bagging_freq is set=8, subsample_freq=0 will be ignored. Current value: bagging_freq=8\n",
      "[LightGBM] [Warning] feature_fraction is set=0.8, colsample_bytree=1.0 will be ignored. Current value: feature_fraction=0.8\n"
     ]
    },
    {
     "name": "stderr",
     "output_type": "stream",
     "text": [
      "/home/hafsa/anaconda3/envs/nilmtk-env/lib/python3.8/site-packages/lightgbm/basic.py:1780: UserWarning: Overriding the parameters from Reference Dataset.\n",
      "  _log_warning('Overriding the parameters from Reference Dataset.')\n",
      "/home/hafsa/anaconda3/envs/nilmtk-env/lib/python3.8/site-packages/lightgbm/basic.py:1513: UserWarning: categorical_column in param dict is overridden.\n",
      "  _log_warning(f'{cat_alias} in param dict is overridden.')\n",
      "/home/hafsa/anaconda3/envs/nilmtk-env/lib/python3.8/site-packages/lightgbm/sklearn.py:726: UserWarning: 'early_stopping_rounds' argument is deprecated and will be removed in a future release of LightGBM. Pass 'early_stopping()' callback via 'callbacks' argument instead.\n",
      "  _log_warning(\"'early_stopping_rounds' argument is deprecated and will be removed in a future release of LightGBM. \"\n",
      "/home/hafsa/anaconda3/envs/nilmtk-env/lib/python3.8/site-packages/lightgbm/sklearn.py:736: UserWarning: 'verbose' argument is deprecated and will be removed in a future release of LightGBM. Pass 'log_evaluation()' callback via 'callbacks' argument instead.\n",
      "  _log_warning(\"'verbose' argument is deprecated and will be removed in a future release of LightGBM. \"\n"
     ]
    },
    {
     "name": "stdout",
     "output_type": "stream",
     "text": [
      "[LightGBM] [Warning] bagging_freq is set=8, subsample_freq=0 will be ignored. Current value: bagging_freq=8\n",
      "[LightGBM] [Warning] feature_fraction is set=0.8, colsample_bytree=1.0 will be ignored. Current value: feature_fraction=0.8\n"
     ]
    },
    {
     "name": "stderr",
     "output_type": "stream",
     "text": [
      "/home/hafsa/anaconda3/envs/nilmtk-env/lib/python3.8/site-packages/lightgbm/basic.py:1780: UserWarning: Overriding the parameters from Reference Dataset.\n",
      "  _log_warning('Overriding the parameters from Reference Dataset.')\n",
      "/home/hafsa/anaconda3/envs/nilmtk-env/lib/python3.8/site-packages/lightgbm/basic.py:1513: UserWarning: categorical_column in param dict is overridden.\n",
      "  _log_warning(f'{cat_alias} in param dict is overridden.')\n",
      "/home/hafsa/anaconda3/envs/nilmtk-env/lib/python3.8/site-packages/lightgbm/sklearn.py:726: UserWarning: 'early_stopping_rounds' argument is deprecated and will be removed in a future release of LightGBM. Pass 'early_stopping()' callback via 'callbacks' argument instead.\n",
      "  _log_warning(\"'early_stopping_rounds' argument is deprecated and will be removed in a future release of LightGBM. \"\n",
      "/home/hafsa/anaconda3/envs/nilmtk-env/lib/python3.8/site-packages/lightgbm/sklearn.py:736: UserWarning: 'verbose' argument is deprecated and will be removed in a future release of LightGBM. Pass 'log_evaluation()' callback via 'callbacks' argument instead.\n",
      "  _log_warning(\"'verbose' argument is deprecated and will be removed in a future release of LightGBM. \"\n"
     ]
    },
    {
     "name": "stdout",
     "output_type": "stream",
     "text": [
      "[LightGBM] [Warning] bagging_freq is set=8, subsample_freq=0 will be ignored. Current value: bagging_freq=8\n",
      "[LightGBM] [Warning] feature_fraction is set=0.8, colsample_bytree=1.0 will be ignored. Current value: feature_fraction=0.8\n"
     ]
    },
    {
     "name": "stderr",
     "output_type": "stream",
     "text": [
      "/home/hafsa/anaconda3/envs/nilmtk-env/lib/python3.8/site-packages/lightgbm/basic.py:1780: UserWarning: Overriding the parameters from Reference Dataset.\n",
      "  _log_warning('Overriding the parameters from Reference Dataset.')\n",
      "/home/hafsa/anaconda3/envs/nilmtk-env/lib/python3.8/site-packages/lightgbm/basic.py:1513: UserWarning: categorical_column in param dict is overridden.\n",
      "  _log_warning(f'{cat_alias} in param dict is overridden.')\n",
      "/home/hafsa/anaconda3/envs/nilmtk-env/lib/python3.8/site-packages/lightgbm/sklearn.py:726: UserWarning: 'early_stopping_rounds' argument is deprecated and will be removed in a future release of LightGBM. Pass 'early_stopping()' callback via 'callbacks' argument instead.\n",
      "  _log_warning(\"'early_stopping_rounds' argument is deprecated and will be removed in a future release of LightGBM. \"\n",
      "/home/hafsa/anaconda3/envs/nilmtk-env/lib/python3.8/site-packages/lightgbm/sklearn.py:736: UserWarning: 'verbose' argument is deprecated and will be removed in a future release of LightGBM. Pass 'log_evaluation()' callback via 'callbacks' argument instead.\n",
      "  _log_warning(\"'verbose' argument is deprecated and will be removed in a future release of LightGBM. \"\n"
     ]
    },
    {
     "name": "stdout",
     "output_type": "stream",
     "text": [
      "[LightGBM] [Warning] bagging_freq is set=8, subsample_freq=0 will be ignored. Current value: bagging_freq=8\n",
      "[LightGBM] [Warning] feature_fraction is set=0.8, colsample_bytree=1.0 will be ignored. Current value: feature_fraction=0.8\n"
     ]
    },
    {
     "name": "stderr",
     "output_type": "stream",
     "text": [
      "/home/hafsa/anaconda3/envs/nilmtk-env/lib/python3.8/site-packages/lightgbm/basic.py:1780: UserWarning: Overriding the parameters from Reference Dataset.\n",
      "  _log_warning('Overriding the parameters from Reference Dataset.')\n",
      "/home/hafsa/anaconda3/envs/nilmtk-env/lib/python3.8/site-packages/lightgbm/basic.py:1513: UserWarning: categorical_column in param dict is overridden.\n",
      "  _log_warning(f'{cat_alias} in param dict is overridden.')\n"
     ]
    },
    {
     "name": "stdout",
     "output_type": "stream",
     "text": [
      "ROC AUC: 0.888086\n",
      "CPU times: user 20min 36s, sys: 7.46 s, total: 20min 43s\n",
      "Wall time: 1min 45s\n"
     ]
    }
   ],
   "source": [
    "%%time\n",
    "seed= 42\n",
    "model = LGBMClassifier(random_state=seed, n_estimators=10000,num_leaves=362, max_depth=124,\n",
    "                           learning_rate=0.008, min_split_gain=0.001,\n",
    "                           feature_fraction=0.8, bagging_freq=8)\n",
    "\n",
    "stkfold = StratifiedKFold(n_splits=5, shuffle=True, random_state=seed)\n",
    "res=[]\n",
    "local_probs=pd.DataFrame()\n",
    "probs = pd.DataFrame()\n",
    "\n",
    "for i, (tdx, vdx) in enumerate(stkfold.split(X, y)):\n",
    "    X_train, X_valid, y_train, y_valid = X.iloc[tdx], X.iloc[vdx], y[tdx], y[vdx]\n",
    "    model.fit(X_train, y_train,\n",
    "                  eval_set=[(X_valid, y_valid)],\n",
    "                  early_stopping_rounds=30, verbose=False)\n",
    "        \n",
    "    preds = model.predict_proba(X_valid)\n",
    "    oof_predict = model.predict_proba(X_test)\n",
    "    local_probs['fold_%i'%i] = oof_predict[:,1]\n",
    "    res.append(roc_auc_score(y_valid, preds[:,1]))\n",
    " \n",
    "print('ROC AUC:', round(np.mean(res), 6))   \n",
    "local_probs['res'] = local_probs.mean(axis=1)\n",
    "probs['target'] = local_probs['res']\n",
    "submission = pd.DataFrame({\n",
    "            'client_id': test_data['client_id'],\n",
    "            'target': probs['target']\n",
    "    })\n",
    "submission.to_csv('Samplesubmission.csv', index=False)"
   ]
  },
  {
   "cell_type": "markdown",
   "source": [
    "## Results Evaluation"
   ],
   "metadata": {
    "collapsed": false,
    "pycharm": {
     "name": "#%% md\n"
    }
   }
  },
  {
   "cell_type": "markdown",
   "metadata": {},
   "source": [
    "The results of the submission are quite good according to the [leaderboard](https://zindi.africa/competitions/ai-hack-tunisia-4-predictive-analytics-challenge-1/leaderboard). the model scored  **third**. Further optimisation fo the hyper-parameters can improve the predictions.\n",
    "\n",
    "\n",
    "![Results](./results.png)"
   ]
  }
 ],
 "metadata": {
  "colab": {
   "name": "Fraud-Detection-STEG.ipynb",
   "provenance": []
  },
  "kernelspec": {
   "display_name": "Python 3 (ipykernel)",
   "language": "python",
   "name": "python3"
  },
  "language_info": {
   "codemirror_mode": {
    "name": "ipython",
    "version": 3
   },
   "file_extension": ".py",
   "mimetype": "text/x-python",
   "name": "python",
   "nbconvert_exporter": "python",
   "pygments_lexer": "ipython3",
   "version": "3.8.12"
  }
 },
 "nbformat": 4,
 "nbformat_minor": 4
}